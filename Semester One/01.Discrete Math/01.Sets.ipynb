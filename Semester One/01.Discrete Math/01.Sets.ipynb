{
 "metadata": {
  "language_info": {
   "codemirror_mode": {
    "name": "ipython",
    "version": 3
   },
   "file_extension": ".py",
   "mimetype": "text/x-python",
   "name": "python",
   "nbconvert_exporter": "python",
   "pygments_lexer": "ipython3",
   "version": "3.7.4-final"
  },
  "orig_nbformat": 2,
  "kernelspec": {
   "name": "python_defaultSpec_1598786643432",
   "display_name": "Python 3.7.4 64-bit ('base': conda)"
  }
 },
 "nbformat": 4,
 "nbformat_minor": 2,
 "cells": [
  {
   "cell_type": "markdown",
   "metadata": {},
   "source": [
    "# Множества\n",
    "\n",
    ">**Дефиниция 1**\n",
    ">\n",
    ">***Множество*** се нарича всяка съвкупност от определени и различни един от друг обекти, които човешката интуиция или интелект възприема като единно цяло.\n",
    "\n",
    "\n",
    ">**Дефиниция 2**\n",
    ">\n",
    "> Ако $M$ е множество, бележим $x \\in M$, ако обектът $x$ е елемент на $M$ (казваме $x$ принадлежи на множеството $M$) и съответно $x \\notin M$, ако $x$ не е елемент на $M$ (казваме $x$ не принадлежи на множеството $M$)\n"
   ]
  },
  {
   "cell_type": "markdown",
   "metadata": {},
   "source": []
  }
 ]
}